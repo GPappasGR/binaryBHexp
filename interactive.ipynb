{
 "cells": [
  {
   "cell_type": "code",
   "execution_count": 53,
   "metadata": {},
   "outputs": [],
   "source": [
    "%matplotlib notebook\n",
    "import black_hole_scattering\n",
    "import numpy as np\n",
    "\n",
    "from __future__ import print_function\n",
    "from ipywidgets import interact, interactive, fixed, interact_manual\n",
    "import ipywidgets as widgets\n",
    "from ipywidgets import HBox, VBox\n",
    "from IPython.display import display\n",
    "from ipywidgets import Button, Layout"
   ]
  },
  {
   "cell_type": "code",
   "execution_count": 54,
   "metadata": {},
   "outputs": [],
   "source": [
    "# Setup slider controls\n",
    "width = '275px'\n",
    "\n",
    "q_slider = widgets.FloatSlider(\n",
    "    value=1.35,\n",
    "    min=1, max=2, step=0.01,\n",
    "    description='q',\n",
    "    layout={'width': width},\n",
    ")\n",
    "chiAmag_slider = widgets.FloatSlider(\n",
    "    value=0.75,\n",
    "    min=0, max=0.8, step=0.01,\n",
    "    description='$\\chi_1$',\n",
    "    layout={'width': width},\n",
    ")\n",
    "chiAth_slider = widgets.FloatSlider(\n",
    "    value=1.1,\n",
    "    min=0, max=np.pi, step=0.01,\n",
    "    description='$\\\\theta_1$',\n",
    "    layout={'width': width},\n",
    ")\n",
    "chiAph_slider = widgets.FloatSlider(\n",
    "    value=-0.4,\n",
    "    min=-np.pi, max=np.pi, step=0.01,\n",
    "    description='$\\phi_1$',\n",
    "    layout={'width': width},\n",
    ")\n",
    "chiBmag_slider = widgets.FloatSlider(\n",
    "    value=0.75,\n",
    "    min=0, max=0.8, step=0.01,\n",
    "    description='$\\chi_2$',\n",
    "    layout={'width': width},\n",
    ")\n",
    "chiBth_slider = widgets.FloatSlider(\n",
    "    value=1.1,\n",
    "    min=0, max=np.pi, step=0.01,\n",
    "    description='$\\\\theta_2$',\n",
    "    layout={'width': width},\n",
    ")\n",
    "chiBph_slider = widgets.FloatSlider(\n",
    "    value=2.75,\n",
    "    min=-np.pi, max=np.pi, step=0.01,\n",
    "    description='$\\phi_2$',\n",
    "    layout={'width': width},\n",
    ")\n",
    "\n",
    "controls = \\\n",
    "    HBox(children=[\n",
    "        VBox(children=\n",
    "            [q_slider\n",
    "            ]),\n",
    "        VBox(children=\n",
    "            [chiAmag_slider,\n",
    "            chiAth_slider,\n",
    "            chiAph_slider,\n",
    "            ]),\n",
    "        VBox(children=\n",
    "            [chiBmag_slider,\n",
    "            chiBth_slider, \n",
    "            chiBph_slider\n",
    "            ]),\n",
    "        ])"
   ]
  },
  {
   "cell_type": "code",
   "execution_count": 52,
   "metadata": {},
   "outputs": [
    {
     "data": {
      "application/vnd.jupyter.widget-view+json": {
       "model_id": "b566b8a253da4a7bac9aff1beacf0503",
       "version_major": 2,
       "version_minor": 0
      },
      "text/plain": [
       "SEJveChjaGlsZHJlbj0oVkJveChjaGlsZHJlbj0oRmxvYXRTbGlkZXIodmFsdWU9MS4zNSwgZGVzY3JpcHRpb249dSdxJywgbGF5b3V0PUxheW91dCh3aWR0aD11JzI3NXB4JyksIG1heD0yLjDigKY=\n"
      ]
     },
     "metadata": {},
     "output_type": "display_data"
    },
    {
     "data": {
      "application/vnd.jupyter.widget-view+json": {
       "model_id": "a73790e555694f0e9190c984a2fefbdb",
       "version_major": 2,
       "version_minor": 0
      },
      "text/plain": [
       "aW50ZXJhY3RpdmUoY2hpbGRyZW49KEJ1dHRvbihkZXNjcmlwdGlvbj11J1J1bicsIHN0eWxlPUJ1dHRvblN0eWxlKCkpLCBPdXRwdXQoKSksIF9kb21fY2xhc3Nlcz0odSd3aWRnZXQtaW50ZXLigKY=\n"
      ]
     },
     "metadata": {},
     "output_type": "display_data"
    }
   ],
   "source": [
    "display(controls)\n",
    "\n",
    "@interact.options(manual=True, manual_name=\"Run\")\n",
    "def run_animation():\n",
    "    q = q_slider.value\n",
    "    chiAmag = chiAmag_slider.value\n",
    "    chiAth = chiAth_slider.value\n",
    "    chiAph = chiAph_slider.value\n",
    "    chiBmag = chiBmag_slider.value\n",
    "    chiBth = chiBth_slider.value\n",
    "    chiBph = chiBph_slider.value\n",
    "\n",
    "    chiA = [chiAmag*np.sin(chiAth)*np.cos(chiAph),\n",
    "            chiAmag*np.sin(chiAth)*np.sin(chiAph),\n",
    "            chiAmag*np.cos(chiAth)]\n",
    "\n",
    "    chiB = [chiBmag*np.sin(chiBth)*np.cos(chiBph),\n",
    "            chiBmag*np.sin(chiBth)*np.sin(chiBph),\n",
    "            chiBmag*np.cos(chiBth)]\n",
    "    \n",
    "    line_ani = black_hole_scattering.BBH_scattering(q, chiA, chiB)\n",
    "    return line_ani"
   ]
  },
  {
   "cell_type": "code",
   "execution_count": null,
   "metadata": {},
   "outputs": [],
   "source": []
  }
 ],
 "metadata": {
  "kernelspec": {
   "display_name": "Python 2",
   "language": "python",
   "name": "python2"
  },
  "language_info": {
   "codemirror_mode": {
    "name": "ipython",
    "version": 2
   },
   "file_extension": ".py",
   "mimetype": "text/x-python",
   "name": "python",
   "nbconvert_exporter": "python",
   "pygments_lexer": "ipython2",
   "version": "2.7.15"
  }
 },
 "nbformat": 4,
 "nbformat_minor": 2
}
